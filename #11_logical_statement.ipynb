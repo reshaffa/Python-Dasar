{
 "cells": [
  {
   "cell_type": "code",
   "execution_count": 14,
   "id": "24d17150",
   "metadata": {},
   "outputs": [
    {
     "name": "stdout",
     "output_type": "stream",
     "text": [
      "Angka 10 Tersedia\n"
     ]
    }
   ],
   "source": [
    "# Logical IF ELSE\n",
    "x = 10\n",
    "if 1 < x or 11 > 10 : _status = \"Angka {0} Tersedia\" \n",
    "else : _status = \"Angka {0} Tidak tersedia\"\n",
    "print(_status.format(x))"
   ]
  },
  {
   "cell_type": "code",
   "execution_count": 15,
   "id": "ef8c60db",
   "metadata": {},
   "outputs": [
    {
     "name": "stdout",
     "output_type": "stream",
     "text": [
      "Keyword tester is not available\n"
     ]
    }
   ],
   "source": [
    "# Nested if\n",
    "_keyword = \"tester\"\n",
    "if _keyword == \"one\" :\n",
    "    _output = \"Keyword {0} is available\"\n",
    "elif _keyword == \"two\" :\n",
    "    _output = \"Keyword {0} is available\"\n",
    "else : _output = \"Keyword {0} is not available\"\n",
    "print(_output.format(_keyword))"
   ]
  },
  {
   "cell_type": "code",
   "execution_count": 16,
   "id": "d7f0df6c",
   "metadata": {},
   "outputs": [
    {
     "name": "stdout",
     "output_type": "stream",
     "text": [
      "Allow Access\n"
     ]
    }
   ],
   "source": [
    "# Sample single if\n",
    "print(\"Allow Access\") if 0 < 1 else print(\"Deny Access\")"
   ]
  },
  {
   "cell_type": "code",
   "execution_count": null,
   "id": "bc3f8f46",
   "metadata": {},
   "outputs": [],
   "source": []
  }
 ],
 "metadata": {
  "kernelspec": {
   "display_name": "Python 3",
   "language": "python",
   "name": "python3"
  },
  "language_info": {
   "codemirror_mode": {
    "name": "ipython",
    "version": 3
   },
   "file_extension": ".py",
   "mimetype": "text/x-python",
   "name": "python",
   "nbconvert_exporter": "python",
   "pygments_lexer": "ipython3",
   "version": "3.8.8"
  }
 },
 "nbformat": 4,
 "nbformat_minor": 5
}
