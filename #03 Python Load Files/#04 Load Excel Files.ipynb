{
 "cells": [
  {
   "cell_type": "code",
   "execution_count": 3,
   "source": [
    "# Load data from excel file\r\n",
    "import pandas as pd\r\n",
    "\r\n",
    "data = pd.read_excel(\"../_files/mahasiswa.xlsx\",\"mahasiswa\")\r\n",
    "df = pd.DataFrame(data)\r\n",
    "df"
   ],
   "outputs": [
    {
     "output_type": "execute_result",
     "data": {
      "text/html": [
       "<div>\n",
       "<style scoped>\n",
       "    .dataframe tbody tr th:only-of-type {\n",
       "        vertical-align: middle;\n",
       "    }\n",
       "\n",
       "    .dataframe tbody tr th {\n",
       "        vertical-align: top;\n",
       "    }\n",
       "\n",
       "    .dataframe thead th {\n",
       "        text-align: right;\n",
       "    }\n",
       "</style>\n",
       "<table border=\"1\" class=\"dataframe\">\n",
       "  <thead>\n",
       "    <tr style=\"text-align: right;\">\n",
       "      <th></th>\n",
       "      <th>Nim</th>\n",
       "      <th>Nama</th>\n",
       "      <th>Prodi</th>\n",
       "      <th>IPK</th>\n",
       "    </tr>\n",
       "  </thead>\n",
       "  <tbody>\n",
       "    <tr>\n",
       "      <th>0</th>\n",
       "      <td>12146783</td>\n",
       "      <td>Safril Sidik</td>\n",
       "      <td>Sistem Informasi</td>\n",
       "      <td>4.00</td>\n",
       "    </tr>\n",
       "    <tr>\n",
       "      <th>1</th>\n",
       "      <td>12146790</td>\n",
       "      <td>Agus Hendriawan</td>\n",
       "      <td>Teknik Informatika</td>\n",
       "      <td>3.82</td>\n",
       "    </tr>\n",
       "    <tr>\n",
       "      <th>2</th>\n",
       "      <td>12176589</td>\n",
       "      <td>Anita Kustianti</td>\n",
       "      <td>Sistem Informasi</td>\n",
       "      <td>3.58</td>\n",
       "    </tr>\n",
       "    <tr>\n",
       "      <th>3</th>\n",
       "      <td>12188907</td>\n",
       "      <td>Stefenus Arditapa</td>\n",
       "      <td>Teknik Informatika</td>\n",
       "      <td>3.32</td>\n",
       "    </tr>\n",
       "    <tr>\n",
       "      <th>4</th>\n",
       "      <td>12176591</td>\n",
       "      <td>Nurul Istikomah</td>\n",
       "      <td>Sistem Informasi</td>\n",
       "      <td>3.76</td>\n",
       "    </tr>\n",
       "  </tbody>\n",
       "</table>\n",
       "</div>"
      ],
      "text/plain": [
       "        Nim               Nama               Prodi   IPK\n",
       "0  12146783       Safril Sidik    Sistem Informasi  4.00\n",
       "1  12146790    Agus Hendriawan  Teknik Informatika  3.82\n",
       "2  12176589    Anita Kustianti    Sistem Informasi  3.58\n",
       "3  12188907  Stefenus Arditapa  Teknik Informatika  3.32\n",
       "4  12176591    Nurul Istikomah    Sistem Informasi  3.76"
      ]
     },
     "metadata": {},
     "execution_count": 3
    }
   ],
   "metadata": {}
  },
  {
   "cell_type": "code",
   "execution_count": null,
   "source": [],
   "outputs": [],
   "metadata": {}
  }
 ],
 "metadata": {
  "orig_nbformat": 4,
  "language_info": {
   "name": "python",
   "version": "3.8.8",
   "mimetype": "text/x-python",
   "codemirror_mode": {
    "name": "ipython",
    "version": 3
   },
   "pygments_lexer": "ipython3",
   "nbconvert_exporter": "python",
   "file_extension": ".py"
  },
  "kernelspec": {
   "name": "python3",
   "display_name": "Python 3.8.8 64-bit ('base': conda)"
  },
  "interpreter": {
   "hash": "5b0d51f9a7add50a2aeb815a40c264822d1bedf95b04a0ff4ba852f45655c252"
  }
 },
 "nbformat": 4,
 "nbformat_minor": 2
}