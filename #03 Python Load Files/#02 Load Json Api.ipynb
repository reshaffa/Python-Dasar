{
 "cells": [
  {
   "cell_type": "code",
   "execution_count": 9,
   "id": "43251b41",
   "metadata": {},
   "outputs": [],
   "source": [
    "# Load json from api-keys\n",
    "import json\n",
    "import pandas as pd\n",
    "\n",
    "payload = pd.read_json(\"https://jsonplaceholder.typicode.com/posts\")\n",
    "df = pd.DataFrame(columns=[\"User ID\",\"Title\",\"Content\"])"
   ]
  },
  {
   "cell_type": "code",
   "execution_count": 7,
   "id": "36ac2afa",
   "metadata": {},
   "outputs": [],
   "source": [
    "#data = payload[\"data\"]\n",
    "#for i in range(0,len(data)):\n",
    "#    df.loc[i] = [data[i][\"userId\"],data[i][\"id\"],data[i][\"title\"],data[i][\"body\"]]"
   ]
  },
  {
   "cell_type": "code",
   "execution_count": 11,
   "id": "6fa47fd2",
   "metadata": {},
   "outputs": [
    {
     "data": {
      "text/html": [
       "<div>\n",
       "<style scoped>\n",
       "    .dataframe tbody tr th:only-of-type {\n",
       "        vertical-align: middle;\n",
       "    }\n",
       "\n",
       "    .dataframe tbody tr th {\n",
       "        vertical-align: top;\n",
       "    }\n",
       "\n",
       "    .dataframe thead th {\n",
       "        text-align: right;\n",
       "    }\n",
       "</style>\n",
       "<table border=\"1\" class=\"dataframe\">\n",
       "  <thead>\n",
       "    <tr style=\"text-align: right;\">\n",
       "      <th></th>\n",
       "      <th>User ID</th>\n",
       "      <th>Title</th>\n",
       "      <th>Content</th>\n",
       "    </tr>\n",
       "  </thead>\n",
       "  <tbody>\n",
       "  </tbody>\n",
       "</table>\n",
       "</div>"
      ],
      "text/plain": [
       "Empty DataFrame\n",
       "Columns: [User ID, Title, Content]\n",
       "Index: []"
      ]
     },
     "execution_count": 11,
     "metadata": {},
     "output_type": "execute_result"
    }
   ],
   "source": [
    "df"
   ]
  },
  {
   "cell_type": "code",
   "execution_count": null,
   "id": "86e7adda",
   "metadata": {},
   "outputs": [],
   "source": []
  }
 ],
 "metadata": {
  "kernelspec": {
   "display_name": "Python 3",
   "language": "python",
   "name": "python3"
  },
  "language_info": {
   "codemirror_mode": {
    "name": "ipython",
    "version": 3
   },
   "file_extension": ".py",
   "mimetype": "text/x-python",
   "name": "python",
   "nbconvert_exporter": "python",
   "pygments_lexer": "ipython3",
   "version": "3.8.8"
  }
 },
 "nbformat": 4,
 "nbformat_minor": 5
}
