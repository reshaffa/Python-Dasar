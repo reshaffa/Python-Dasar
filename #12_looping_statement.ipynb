{
 "cells": [
  {
   "cell_type": "code",
   "execution_count": 10,
   "id": "fc878749",
   "metadata": {},
   "outputs": [
    {
     "name": "stdout",
     "output_type": "stream",
     "text": [
      "AUD\n",
      "IDR\n",
      "JPY\n",
      "USD\n",
      "GBP\n"
     ]
    }
   ],
   "source": [
    "# Looping using while\n",
    "_test = [\"AUD\",\"IDR\",\"JPY\",\"USD\",\"GBP\"]\n",
    "i = 0\n",
    "while i < len(_test) : \n",
    "    print(_items[i])\n",
    "    i+=1"
   ]
  },
  {
   "cell_type": "code",
   "execution_count": 21,
   "id": "a034487e",
   "metadata": {},
   "outputs": [
    {
     "name": "stdout",
     "output_type": "stream",
     "text": [
      "reshaffa\n",
      "reshaffa@gmail.com\n",
      "superadmin\n"
     ]
    }
   ],
   "source": [
    "# Looping for\n",
    "_vars = {\n",
    "    \"username\" : \"reshaffa\",\n",
    "    \"email\" : \"reshaffa@gmail.com\",\n",
    "    \"access\" : \"superadmin\"\n",
    "}\n",
    "\n",
    "for x,y in _vars.items() :\n",
    "    print(y)"
   ]
  },
  {
   "cell_type": "code",
   "execution_count": 35,
   "id": "3760b284",
   "metadata": {},
   "outputs": [
    {
     "name": "stdout",
     "output_type": "stream",
     "text": [
      "{'user1': {'userId': 1, 'name': 'Safril Sidik'}, 'user2': {'userId': 2, 'name': 'Recha Abriana'}, 'user3': {'userId': 3, 'name': 'Ignatius Jonan'}}\n"
     ]
    }
   ],
   "source": [
    "# Looping in dictionaries \n",
    "_users = {\n",
    "    \"user1\" : {\n",
    "        \"userId\" : 1,\n",
    "        \"name\" : \"Safril Sidik\"\n",
    "    },\n",
    "    \"user2\" : {\n",
    "        \"userId\" : 2,\n",
    "        \"name\" : \"Recha Abriana\"\n",
    "    },\n",
    "    \"user3\" : {\n",
    "        \"userId\" : 3,\n",
    "        \"name\" : \"Ignatius Jonan\"\n",
    "    }\n",
    "}\n",
    "print(_users)"
   ]
  },
  {
   "cell_type": "code",
   "execution_count": null,
   "id": "dd9d5246",
   "metadata": {},
   "outputs": [],
   "source": []
  }
 ],
 "metadata": {
  "kernelspec": {
   "display_name": "Python 3",
   "language": "python",
   "name": "python3"
  },
  "language_info": {
   "codemirror_mode": {
    "name": "ipython",
    "version": 3
   },
   "file_extension": ".py",
   "mimetype": "text/x-python",
   "name": "python",
   "nbconvert_exporter": "python",
   "pygments_lexer": "ipython3",
   "version": "3.8.8"
  }
 },
 "nbformat": 4,
 "nbformat_minor": 5
}
