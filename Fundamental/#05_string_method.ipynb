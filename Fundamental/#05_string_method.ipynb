{
 "cells": [
  {
   "cell_type": "code",
   "execution_count": 3,
   "id": "dd56ecd4",
   "metadata": {},
   "outputs": [],
   "source": [
    "# Method string\n",
    "filename = \"sample string.pdf\""
   ]
  },
  {
   "cell_type": "code",
   "execution_count": 5,
   "id": "4507ce47",
   "metadata": {},
   "outputs": [
    {
     "name": "stdout",
     "output_type": "stream",
     "text": [
      "Sample string.pdf\n"
     ]
    }
   ],
   "source": [
    "# Capitalize method to Converts the first character to upper case\n",
    "output = filename.capitalize()\n",
    "print(output)"
   ]
  },
  {
   "cell_type": "code",
   "execution_count": 6,
   "id": "b3fbb30f",
   "metadata": {},
   "outputs": [
    {
     "name": "stdout",
     "output_type": "stream",
     "text": [
      "String sebelum di casefold : \"Sample string.pdf\"\n",
      "String setelah di casefold : \"sample string.pdf\"\n"
     ]
    }
   ],
   "source": [
    "# Casefold method to Converts string into lower case\n",
    "lower_case = output.casefold()\n",
    "print(\"String sebelum di casefold : \\\"\"+output+\"\\\"\\nString setelah di casefold : \\\"\"+lower_case+\"\\\"\")"
   ]
  },
  {
   "cell_type": "code",
   "execution_count": 8,
   "id": "f0e7318e",
   "metadata": {},
   "outputs": [
    {
     "data": {
      "text/plain": [
       "' sample string.pdf  '"
      ]
     },
     "execution_count": 8,
     "metadata": {},
     "output_type": "execute_result"
    }
   ],
   "source": [
    "# Center method to Centered of string center(numberOfstartChar)\n",
    "lower_case.center(20)"
   ]
  },
  {
   "cell_type": "code",
   "execution_count": 10,
   "id": "1f8fef75",
   "metadata": {},
   "outputs": [
    {
     "data": {
      "text/plain": [
       "1"
      ]
     },
     "execution_count": 10,
     "metadata": {},
     "output_type": "execute_result"
    }
   ],
   "source": [
    "# Count method to Returns the number of times a specified value occurs in a string or like a contains\n",
    "output.count(\".pdf\")"
   ]
  },
  {
   "cell_type": "code",
   "execution_count": 11,
   "id": "db7c5863",
   "metadata": {},
   "outputs": [
    {
     "data": {
      "text/plain": [
       "b'Sample string.pdf'"
      ]
     },
     "execution_count": 11,
     "metadata": {},
     "output_type": "execute_result"
    }
   ],
   "source": [
    "# Encode method to encode version of the string\n",
    "output.encode()"
   ]
  },
  {
   "cell_type": "code",
   "execution_count": 58,
   "id": "182f9fe1",
   "metadata": {},
   "outputs": [
    {
     "name": "stdout",
     "output_type": "stream",
     "text": [
      "Filename : Sample string.pdf adalah benar file pdf\n"
     ]
    }
   ],
   "source": [
    "# Endwiths method to return true if the string ends with the specified value\n",
    "# Sample checking file is a pdf file? output variable is a string of filename\n",
    "_check = output.endswith(\".pdf\")\n",
    "if _check is True : _status = \"benar file pdf\" \n",
    "else : _status = \"bukan file pdf\"\n",
    "print(\"Filename : \"+output+\" adalah \"+_status)"
   ]
  },
  {
   "cell_type": "code",
   "execution_count": null,
   "id": "1fe021d8",
   "metadata": {},
   "outputs": [],
   "source": []
  }
 ],
 "metadata": {
  "kernelspec": {
   "display_name": "Python 3",
   "language": "python",
   "name": "python3"
  },
  "language_info": {
   "codemirror_mode": {
    "name": "ipython",
    "version": 3
   },
   "file_extension": ".py",
   "mimetype": "text/x-python",
   "name": "python",
   "nbconvert_exporter": "python",
   "pygments_lexer": "ipython3",
   "version": "3.8.8"
  }
 },
 "nbformat": 4,
 "nbformat_minor": 5
}
