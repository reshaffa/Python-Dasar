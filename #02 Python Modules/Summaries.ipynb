{
 "cells": [
  {
   "cell_type": "code",
   "execution_count": 12,
   "id": "a07e22bf",
   "metadata": {},
   "outputs": [
    {
     "name": "stdout",
     "output_type": "stream",
     "text": [
      "Hasil dari 10 + 2 = 12\n",
      "Hasil dari 10 - 2 = 8\n",
      "Hasil dari 10 x 2 = 20\n",
      "Hasil dari 10 x 2 = 5\n"
     ]
    }
   ],
   "source": [
    "# Please install package import-ipynb if you create new modules in jupyter notebook\n",
    "# Install with pip : pip install import-ipynb\n",
    "import import_ipynb\n",
    "import Calculate as ct\n",
    "x = 10\n",
    "y = 2\n",
    "_sum = \"Hasil dari {0} + {1} = \"+str(ct.penjumlahan(x,y))\n",
    "_min = \"Hasil dari {0} - {1} = \"+str(ct.pengurangan(x,y))\n",
    "_kali = \"Hasil dari {0} x {1} = \"+str(ct.perkalian(x,y))\n",
    "_bagi = \"Hasil dari {0} x {1} = \"+str(int(ct.pembagian(x,y)))\n",
    "print(_sum.format(x,y)+\"\\n\"+_min.format(x,y)+\"\\n\"+_kali.format(x,y)+\"\\n\"+_bagi.format(x,y))"
   ]
  },
  {
   "cell_type": "code",
   "execution_count": null,
   "id": "2d5887ab",
   "metadata": {},
   "outputs": [],
   "source": []
  }
 ],
 "metadata": {
  "kernelspec": {
   "display_name": "Python 3",
   "language": "python",
   "name": "python3"
  },
  "language_info": {
   "codemirror_mode": {
    "name": "ipython",
    "version": 3
   },
   "file_extension": ".py",
   "mimetype": "text/x-python",
   "name": "python",
   "nbconvert_exporter": "python",
   "pygments_lexer": "ipython3",
   "version": "3.8.8"
  }
 },
 "nbformat": 4,
 "nbformat_minor": 5
}
