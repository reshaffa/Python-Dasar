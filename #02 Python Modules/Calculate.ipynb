{
 "cells": [
  {
   "cell_type": "code",
   "execution_count": 1,
   "id": "1a20c808",
   "metadata": {},
   "outputs": [],
   "source": [
    "# Create a sample modules\n",
    "def penjumlahan(x=0,y=0):\n",
    "    return x+y\n",
    "def pengurangan(x=0,y=0):\n",
    "    return x-y\n",
    "def perkalian(x=0,y=0):\n",
    "    return x*y\n",
    "def pembagian(x=0,y=0):\n",
    "    return x/y\n",
    "def modulus(x=0,y=0):\n",
    "    return x%y"
   ]
  },
  {
   "cell_type": "code",
   "execution_count": null,
   "id": "bd980093",
   "metadata": {},
   "outputs": [],
   "source": []
  }
 ],
 "metadata": {
  "kernelspec": {
   "display_name": "Python 3",
   "language": "python",
   "name": "python3"
  },
  "language_info": {
   "codemirror_mode": {
    "name": "ipython",
    "version": 3
   },
   "file_extension": ".py",
   "mimetype": "text/x-python",
   "name": "python",
   "nbconvert_exporter": "python",
   "pygments_lexer": "ipython3",
   "version": "3.8.8"
  }
 },
 "nbformat": 4,
 "nbformat_minor": 5
}
