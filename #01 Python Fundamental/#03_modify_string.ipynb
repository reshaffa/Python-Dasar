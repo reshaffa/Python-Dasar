{
 "cells": [
  {
   "cell_type": "code",
   "execution_count": 13,
   "id": "94ebd333",
   "metadata": {},
   "outputs": [],
   "source": [
    "# Modify string with some function such as \n",
    "_identify = \"This is identification, classification, and testing of basic python programming. \""
   ]
  },
  {
   "cell_type": "code",
   "execution_count": 14,
   "id": "d1b29dc3",
   "metadata": {},
   "outputs": [
    {
     "name": "stdout",
     "output_type": "stream",
     "text": [
      "THIS IS IDENTIFICATION, CLASSIFICATION, AND TESTING OF BASIC PYTHON PROGRAMMING. \n"
     ]
    }
   ],
   "source": [
    "# Using uppercase function string\n",
    "print(_identify.upper())"
   ]
  },
  {
   "cell_type": "code",
   "execution_count": 15,
   "id": "5f83fa66",
   "metadata": {},
   "outputs": [
    {
     "name": "stdout",
     "output_type": "stream",
     "text": [
      "this is identification, classification, and testing of basic python programming. \n"
     ]
    }
   ],
   "source": [
    "# Using lowercase function string\n",
    "print(_identify.lower())"
   ]
  },
  {
   "cell_type": "code",
   "execution_count": 16,
   "id": "539afbf3",
   "metadata": {},
   "outputs": [
    {
     "name": "stdout",
     "output_type": "stream",
     "text": [
      "This is identification, \"--string has replaced--\", and testing of basic python programming. \n"
     ]
    }
   ],
   "source": [
    "# Replacing string function\n",
    "print(_identify.replace(\"classification\",\"\\\"--string has replaced--\\\"\"))"
   ]
  },
  {
   "cell_type": "code",
   "execution_count": 17,
   "id": "21e6b09f",
   "metadata": {},
   "outputs": [
    {
     "name": "stdout",
     "output_type": "stream",
     "text": [
      "This is identification, classification, and testing of basic python programming.\n"
     ]
    }
   ],
   "source": [
    "# Removing white space on string on start or end\n",
    "print(_identify.strip())"
   ]
  },
  {
   "cell_type": "code",
   "execution_count": 18,
   "id": "8f4cb92f",
   "metadata": {},
   "outputs": [
    {
     "name": "stdout",
     "output_type": "stream",
     "text": [
      "['This', 'is', 'identification,', 'classification,', 'and', 'testing', 'of', 'basic', 'python', 'programming.', '']\n"
     ]
    }
   ],
   "source": [
    "# Split string into substring or array\n",
    "print(_identify.split(\" \"))"
   ]
  },
  {
   "cell_type": "code",
   "execution_count": null,
   "id": "458d7db9",
   "metadata": {},
   "outputs": [],
   "source": []
  }
 ],
 "metadata": {
  "kernelspec": {
   "display_name": "Python 3",
   "language": "python",
   "name": "python3"
  },
  "language_info": {
   "codemirror_mode": {
    "name": "ipython",
    "version": 3
   },
   "file_extension": ".py",
   "mimetype": "text/x-python",
   "name": "python",
   "nbconvert_exporter": "python",
   "pygments_lexer": "ipython3",
   "version": "3.8.8"
  }
 },
 "nbformat": 4,
 "nbformat_minor": 5
}
