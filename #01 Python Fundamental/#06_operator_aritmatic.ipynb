{
 "cells": [
  {
   "cell_type": "code",
   "execution_count": 1,
   "id": "780bc01d",
   "metadata": {},
   "outputs": [
    {
     "name": "stdout",
     "output_type": "stream",
     "text": [
      "24\n"
     ]
    }
   ],
   "source": [
    "# Operator Addition (+)\n",
    "print(20+4)"
   ]
  },
  {
   "cell_type": "code",
   "execution_count": 2,
   "id": "9f551205",
   "metadata": {},
   "outputs": [
    {
     "name": "stdout",
     "output_type": "stream",
     "text": [
      "16\n"
     ]
    }
   ],
   "source": [
    "#Operator Subtraction (-)\n",
    "print(20-4)"
   ]
  },
  {
   "cell_type": "code",
   "execution_count": 3,
   "id": "9b887a02",
   "metadata": {},
   "outputs": [
    {
     "name": "stdout",
     "output_type": "stream",
     "text": [
      "80\n"
     ]
    }
   ],
   "source": [
    "# Operator Multiplication (*)\n",
    "print(20*4)"
   ]
  },
  {
   "cell_type": "code",
   "execution_count": 4,
   "id": "04c81ab2",
   "metadata": {},
   "outputs": [
    {
     "name": "stdout",
     "output_type": "stream",
     "text": [
      "5.0\n"
     ]
    }
   ],
   "source": [
    "# Operator Division\n",
    "print(20/4)"
   ]
  },
  {
   "cell_type": "code",
   "execution_count": 5,
   "id": "edce432d",
   "metadata": {},
   "outputs": [
    {
     "name": "stdout",
     "output_type": "stream",
     "text": [
      "2\n"
     ]
    }
   ],
   "source": [
    "# Oparetor Modulus\n",
    "print(20%3)"
   ]
  },
  {
   "cell_type": "code",
   "execution_count": 7,
   "id": "a26f3db4",
   "metadata": {},
   "outputs": [
    {
     "name": "stdout",
     "output_type": "stream",
     "text": [
      "1000\n"
     ]
    }
   ],
   "source": [
    "# Operator Exponential (perpangkatan)\n",
    "print(10**3)"
   ]
  },
  {
   "cell_type": "code",
   "execution_count": 10,
   "id": "eb6c9d44",
   "metadata": {},
   "outputs": [
    {
     "name": "stdout",
     "output_type": "stream",
     "text": [
      "8.0\n"
     ]
    }
   ],
   "source": [
    "# Operator Floor Division\n",
    "print(20//2.25)"
   ]
  },
  {
   "cell_type": "code",
   "execution_count": null,
   "id": "56fbdb6e",
   "metadata": {},
   "outputs": [],
   "source": []
  }
 ],
 "metadata": {
  "kernelspec": {
   "display_name": "Python 3",
   "language": "python",
   "name": "python3"
  },
  "language_info": {
   "codemirror_mode": {
    "name": "ipython",
    "version": 3
   },
   "file_extension": ".py",
   "mimetype": "text/x-python",
   "name": "python",
   "nbconvert_exporter": "python",
   "pygments_lexer": "ipython3",
   "version": "3.8.8"
  }
 },
 "nbformat": 4,
 "nbformat_minor": 5
}
