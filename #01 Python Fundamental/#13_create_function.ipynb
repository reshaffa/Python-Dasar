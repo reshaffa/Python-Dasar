{
 "cells": [
  {
   "cell_type": "code",
   "execution_count": 10,
   "id": "0df64cf9",
   "metadata": {},
   "outputs": [
    {
     "name": "stdout",
     "output_type": "stream",
     "text": [
      "This value 11 grather than 10\n"
     ]
    }
   ],
   "source": [
    "# Sample of create a function\n",
    "def _prop(x):\n",
    "    if x < 10 : \n",
    "        _status = \"This value {0} less than 10\"\n",
    "        print(_status.format(x))\n",
    "    else : \n",
    "        _status = \"This value {0} grather than 10\"\n",
    "        print(_status.format(x))\n",
    "_prop(11)"
   ]
  },
  {
   "cell_type": "code",
   "execution_count": 19,
   "id": "a889d0e3",
   "metadata": {},
   "outputs": [
    {
     "name": "stdout",
     "output_type": "stream",
     "text": [
      "Calculate from 8 : 40\n"
     ]
    }
   ],
   "source": [
    "# Sample of return in function\n",
    "def _total(x, y=5):\n",
    "    return x * y\n",
    "a = 8\n",
    "b = _total(a)\n",
    "print(\"Calculate from {0} : {1}\".format(a,b))"
   ]
  },
  {
   "cell_type": "code",
   "execution_count": null,
   "id": "7c08b9de",
   "metadata": {},
   "outputs": [],
   "source": []
  }
 ],
 "metadata": {
  "kernelspec": {
   "display_name": "Python 3",
   "language": "python",
   "name": "python3"
  },
  "language_info": {
   "codemirror_mode": {
    "name": "ipython",
    "version": 3
   },
   "file_extension": ".py",
   "mimetype": "text/x-python",
   "name": "python",
   "nbconvert_exporter": "python",
   "pygments_lexer": "ipython3",
   "version": "3.8.8"
  }
 },
 "nbformat": 4,
 "nbformat_minor": 5
}
