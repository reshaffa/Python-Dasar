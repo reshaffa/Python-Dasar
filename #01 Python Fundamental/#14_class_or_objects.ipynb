{
 "cells": [
  {
   "cell_type": "code",
   "execution_count": 1,
   "id": "2571b784",
   "metadata": {},
   "outputs": [
    {
     "name": "stdout",
     "output_type": "stream",
     "text": [
      "United States using a USD\n"
     ]
    }
   ],
   "source": [
    "# Create a simple class\n",
    "class currencies :\n",
    "    symbol = \"USD\"\n",
    "    country = \"United States\"\n",
    "    \n",
    "_usd = currencies() #new object from currencies class\n",
    "print(_usd.country+\" using a \"+_usd.symbol)"
   ]
  },
  {
   "cell_type": "code",
   "execution_count": 12,
   "id": "d8a70894",
   "metadata": {},
   "outputs": [
    {
     "name": "stdout",
     "output_type": "stream",
     "text": [
      "NIM : 12146783\n",
      "Nama : SAFRIL SIDIK\n",
      "Prodi : SI\n"
     ]
    }
   ],
   "source": [
    "# Create __init__function class\n",
    "# __init__ is assign values\n",
    "# self is intance of class\n",
    "class Mahasiswa : \n",
    "    def __init__(self, nim, nama, jurusan):\n",
    "        self.nim = nim \n",
    "        self.nama = nama.upper()\n",
    "        self.jurusan = jurusan.upper()\n",
    "    \n",
    "data = Mahasiswa(12146783,\"Safril Sidik\",\"SI\")\n",
    "print(\"NIM : \"+str(data.nim)+\"\\nNama : \"+data.nama+\"\\nProdi : \"+data.jurusan)\n"
   ]
  },
  {
   "cell_type": "code",
   "execution_count": 18,
   "id": "1b2fce29",
   "metadata": {},
   "outputs": [
    {
     "name": "stdout",
     "output_type": "stream",
     "text": [
      "Username is reshaffa, email is reshaffa@gmail.com and telephone is +6288213669701\n"
     ]
    }
   ],
   "source": [
    "# Define multiple function in single class\n",
    "class Users : \n",
    "    def __init__(self, username, email, phone) :\n",
    "        self.username = username\n",
    "        self.email = email\n",
    "        self.phone = \"+62\"+str(phone)\n",
    "        \n",
    "    def getInformation(self):\n",
    "        print(\"Username is \"+self.username+\", email is \"+self.email+\" and telephone is \"+self.phone)\n",
    "        \n",
    "_info = Users(\"reshaffa\",\"reshaffa@gmail.com\",88213669701)\n",
    "_info.getInformation()"
   ]
  },
  {
   "cell_type": "code",
   "execution_count": 20,
   "id": "633bb0c8",
   "metadata": {},
   "outputs": [
    {
     "name": "stdout",
     "output_type": "stream",
     "text": [
      "Username is aresha, email is reshaffa@gmail.com and telephone is +6288213669701\n"
     ]
    }
   ],
   "source": [
    "del _info.username\n",
    "_info.username = \"aresha\"\n",
    "_info.getInformation()"
   ]
  },
  {
   "cell_type": "code",
   "execution_count": null,
   "id": "53e7214b",
   "metadata": {},
   "outputs": [],
   "source": []
  }
 ],
 "metadata": {
  "kernelspec": {
   "display_name": "Python 3",
   "language": "python",
   "name": "python3"
  },
  "language_info": {
   "codemirror_mode": {
    "name": "ipython",
    "version": 3
   },
   "file_extension": ".py",
   "mimetype": "text/x-python",
   "name": "python",
   "nbconvert_exporter": "python",
   "pygments_lexer": "ipython3",
   "version": "3.8.8"
  }
 },
 "nbformat": 4,
 "nbformat_minor": 5
}
