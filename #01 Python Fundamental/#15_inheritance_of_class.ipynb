{
 "cells": [
  {
   "cell_type": "code",
   "execution_count": 4,
   "id": "2af8e02c",
   "metadata": {},
   "outputs": [
    {
     "name": "stdout",
     "output_type": "stream",
     "text": [
      "Recha Abriana love Safril Sidik everyday.\n"
     ]
    }
   ],
   "source": [
    "# Create main class\n",
    "class People : \n",
    "    def __init__(self, name, hobby):\n",
    "        self.name = name\n",
    "        self.hobby = hobby\n",
    "    def description(self):\n",
    "        print(self.name+\" love \"+self.hobby+\" everyday.\")\n",
    "_users = People(\"Recha Abriana\",\"Safril Sidik\")\n",
    "_users.description()"
   ]
  },
  {
   "cell_type": "code",
   "execution_count": 7,
   "id": "1618281e",
   "metadata": {},
   "outputs": [],
   "source": [
    "# child of main class\n",
    "class Love(People):\n",
    "    pass"
   ]
  },
  {
   "cell_type": "code",
   "execution_count": 8,
   "id": "9987e6e6",
   "metadata": {},
   "outputs": [
    {
     "name": "stdout",
     "output_type": "stream",
     "text": [
      "Safril Sidik love Recha Abriana Anggraini everyday.\n"
     ]
    }
   ],
   "source": [
    "_love = Love(\"Safril Sidik\",\"Recha Abriana Anggraini\")\n",
    "_love.description()"
   ]
  },
  {
   "cell_type": "code",
   "execution_count": null,
   "id": "6c58d985",
   "metadata": {},
   "outputs": [],
   "source": []
  }
 ],
 "metadata": {
  "kernelspec": {
   "display_name": "Python 3",
   "language": "python",
   "name": "python3"
  },
  "language_info": {
   "codemirror_mode": {
    "name": "ipython",
    "version": 3
   },
   "file_extension": ".py",
   "mimetype": "text/x-python",
   "name": "python",
   "nbconvert_exporter": "python",
   "pygments_lexer": "ipython3",
   "version": "3.8.8"
  }
 },
 "nbformat": 4,
 "nbformat_minor": 5
}
