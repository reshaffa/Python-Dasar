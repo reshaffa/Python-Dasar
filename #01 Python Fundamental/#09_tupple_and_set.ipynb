{
 "cells": [
  {
   "cell_type": "code",
   "execution_count": 2,
   "id": "ae761e1a",
   "metadata": {},
   "outputs": [
    {
     "name": "stdout",
     "output_type": "stream",
     "text": [
      "('One', 'Two', 'Three', 'Four', 'Five')\n"
     ]
    }
   ],
   "source": [
    "# Sample of tuple\n",
    "_tuples = (\"One\",\"Two\",\"Three\",\"Four\",\"Five\")\n",
    "print(_tuples)"
   ]
  },
  {
   "cell_type": "code",
   "execution_count": 5,
   "id": "3fc96d0f",
   "metadata": {},
   "outputs": [
    {
     "name": "stdout",
     "output_type": "stream",
     "text": [
      "{'AUD', 'USD', 'GBP', 'IDR', 'JPY'}\n"
     ]
    }
   ],
   "source": [
    "# Sample of set\n",
    "_sets = {\"GBP\",\"JPY\",\"USD\",\"IDR\",\"JPY\",\"AUD\",\"IDR\"} # set is not to duplicated items\n",
    "print(_sets)"
   ]
  },
  {
   "cell_type": "code",
   "execution_count": 12,
   "id": "c25a9359",
   "metadata": {},
   "outputs": [
    {
     "name": "stdout",
     "output_type": "stream",
     "text": [
      "{'One', 'TEST', 'AUD', 'LIST', 'USD', 'GBP', 'Three', 'IDR', 'Two', 'Four', 'Five', 'JPY'}\n"
     ]
    }
   ],
   "source": [
    "_var = set([\"TEST\",\"LIST\"])\n",
    "_change = set(_tuples)\n",
    "_outputs = _sets.union(_change).union(_var) # Joining multiple set\n",
    "print(_outputs)"
   ]
  },
  {
   "cell_type": "code",
   "execution_count": null,
   "id": "e8e2907e",
   "metadata": {},
   "outputs": [],
   "source": []
  }
 ],
 "metadata": {
  "kernelspec": {
   "display_name": "Python 3",
   "language": "python",
   "name": "python3"
  },
  "language_info": {
   "codemirror_mode": {
    "name": "ipython",
    "version": 3
   },
   "file_extension": ".py",
   "mimetype": "text/x-python",
   "name": "python",
   "nbconvert_exporter": "python",
   "pygments_lexer": "ipython3",
   "version": "3.8.8"
  }
 },
 "nbformat": 4,
 "nbformat_minor": 5
}
