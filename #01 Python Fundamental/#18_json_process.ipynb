{
 "cells": [
  {
   "cell_type": "code",
   "execution_count": 2,
   "id": "29b6a953",
   "metadata": {},
   "outputs": [],
   "source": [
    "# Fetch or create json format\n",
    "import json\n",
    "\n",
    "_items = [\n",
    "    { \"username\" : \"reshaffa\", \"email\" : \"reshaffa@gmail.com\"},\n",
    "    { \"username\" : \"aresha\", \"email\" : \"aresha@gmail.com\"},\n",
    "    { \"username\" : \"rcb\", \"email\" : \"example@gmail.com\"}\n",
    "]\n",
    "_json = json.dumps(_items)"
   ]
  },
  {
   "cell_type": "code",
   "execution_count": 3,
   "id": "f2cfa994",
   "metadata": {},
   "outputs": [
    {
     "name": "stdout",
     "output_type": "stream",
     "text": [
      "[{\"username\": \"reshaffa\", \"email\": \"reshaffa@gmail.com\"}, {\"username\": \"aresha\", \"email\": \"aresha@gmail.com\"}, {\"username\": \"rcb\", \"email\": \"example@gmail.com\"}]\n"
     ]
    }
   ],
   "source": [
    "print(_json)"
   ]
  },
  {
   "cell_type": "code",
   "execution_count": 51,
   "id": "5feb3673",
   "metadata": {},
   "outputs": [
    {
     "name": "stdout",
     "output_type": "stream",
     "text": [
      "[{\n",
      "        \"id\": 1998707,\n",
      "        \"username\": \"reshaffa\",\n",
      "        \"email\": \"reshaffa@gmail.com\",\n",
      "        \"class\": \"Beginner\"\n",
      "    },\n",
      "    {\n",
      "        \"id\": 1998708,\n",
      "        \"username\": \"aresha\",\n",
      "        \"email\": \"aresha@gmail.com\",\n",
      "        \"class\": \"Beginner\"\n",
      "    },\n",
      "    {\n",
      "        \"id\": 1998709,\n",
      "        \"username\": \"recha\",\n",
      "        \"email\": \"recha@gmail.com\",\n",
      "        \"class\": \"Expert\"\n",
      "    }\n",
      "]\n"
     ]
    }
   ],
   "source": [
    "# Sample open file and then read this file\n",
    "files = open(\"../_files/users.json\") # to open file\n",
    "_reads = files.read()\n",
    "print(_reads)"
   ]
  },
  {
   "cell_type": "code",
   "execution_count": null,
   "id": "ff9f2df4",
   "metadata": {},
   "outputs": [],
   "source": []
  }
 ],
 "metadata": {
  "kernelspec": {
   "display_name": "Python 3",
   "language": "python",
   "name": "python3"
  },
  "language_info": {
   "codemirror_mode": {
    "name": "ipython",
    "version": 3
   },
   "file_extension": ".py",
   "mimetype": "text/x-python",
   "name": "python",
   "nbconvert_exporter": "python",
   "pygments_lexer": "ipython3",
   "version": "3.8.8"
  }
 },
 "nbformat": 4,
 "nbformat_minor": 5
}
