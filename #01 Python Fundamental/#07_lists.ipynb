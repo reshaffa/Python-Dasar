{
 "cells": [
  {
   "cell_type": "code",
   "execution_count": 1,
   "id": "93267416",
   "metadata": {},
   "outputs": [
    {
     "name": "stdout",
     "output_type": "stream",
     "text": [
      "['IDR', 'USD', 'EUR', 'GBP', 'JPY', 'PND', 'AUD']\n"
     ]
    }
   ],
   "source": [
    "# List (store data in a single variable)\n",
    "# Having 3 data type of list such as Tuple, Set and Dictionary\n",
    "_currencies = [\"IDR\",\"USD\",\"EUR\",\"GBP\",\"JPY\",\"PND\",\"AUD\"]\n",
    "print(_currencies)"
   ]
  },
  {
   "cell_type": "code",
   "execution_count": 2,
   "id": "7a53fb6f",
   "metadata": {},
   "outputs": [
    {
     "name": "stdout",
     "output_type": "stream",
     "text": [
      "7\n"
     ]
    }
   ],
   "source": [
    "# Show length of list using len()\n",
    "print(len(_currencies))"
   ]
  },
  {
   "cell_type": "code",
   "execution_count": 3,
   "id": "fe977e21",
   "metadata": {},
   "outputs": [
    {
     "name": "stdout",
     "output_type": "stream",
     "text": [
      "EUR\n"
     ]
    }
   ],
   "source": [
    "# Showing list by index 2 is EUR\n",
    "print(_currencies[2])"
   ]
  }
 ],
 "metadata": {
  "kernelspec": {
   "display_name": "Python 3",
   "language": "python",
   "name": "python3"
  },
  "language_info": {
   "codemirror_mode": {
    "name": "ipython",
    "version": 3
   },
   "file_extension": ".py",
   "mimetype": "text/x-python",
   "name": "python",
   "nbconvert_exporter": "python",
   "pygments_lexer": "ipython3",
   "version": "3.8.8"
  }
 },
 "nbformat": 4,
 "nbformat_minor": 5
}
