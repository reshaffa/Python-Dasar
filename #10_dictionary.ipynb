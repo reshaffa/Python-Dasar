{
 "cells": [
  {
   "cell_type": "code",
   "execution_count": 1,
   "id": "cb349cf5",
   "metadata": {},
   "outputs": [
    {
     "name": "stdout",
     "output_type": "stream",
     "text": [
      "{'username': 'reshaffa@gmail.com', 'access': 'superadmin', 'options': {'level': 1, 'status': 'active'}}\n"
     ]
    }
   ],
   "source": [
    "# Sample of dictionary\n",
    "_dictionaries = {\n",
    "    \"username\" : \"reshaffa@gmail.com\",\n",
    "    \"access\" : \"superadmin\",\n",
    "    \"options\" : {\n",
    "        \"level\" : 1,\n",
    "        \"status\": \"active\"\n",
    "    }\n",
    "}\n",
    "print(_dictionaries)"
   ]
  },
  {
   "cell_type": "code",
   "execution_count": 7,
   "id": "2f14e51d",
   "metadata": {},
   "outputs": [
    {
     "name": "stdout",
     "output_type": "stream",
     "text": [
      "{'username': None, 'access': None, 'options': None}\n"
     ]
    }
   ],
   "source": [
    "# Dictionary method fromkey\n",
    "_outputs = dict.fromkeys(_dictionaries)\n",
    "print(_outputs)"
   ]
  },
  {
   "cell_type": "code",
   "execution_count": 14,
   "id": "2372328b",
   "metadata": {},
   "outputs": [
    {
     "name": "stdout",
     "output_type": "stream",
     "text": [
      "dict_values([None, None, None])\n"
     ]
    }
   ],
   "source": [
    "# dictionary values\n",
    "_samples = {\n",
    "    \"username\" : \"reshaffa@gmail.com\",\n",
    "    \"access\" : \"superadmin\",\n",
    "    \"options\" : {\n",
    "        \"level\" : 1,\n",
    "        \"status\": \"active\"\n",
    "    }\n",
    "}\n",
    "_test = dict.fromkeys(_samples)\n",
    "print(_test.values())"
   ]
  },
  {
   "cell_type": "code",
   "execution_count": null,
   "id": "400bf7cb",
   "metadata": {},
   "outputs": [],
   "source": []
  }
 ],
 "metadata": {
  "kernelspec": {
   "display_name": "Python 3",
   "language": "python",
   "name": "python3"
  },
  "language_info": {
   "codemirror_mode": {
    "name": "ipython",
    "version": 3
   },
   "file_extension": ".py",
   "mimetype": "text/x-python",
   "name": "python",
   "nbconvert_exporter": "python",
   "pygments_lexer": "ipython3",
   "version": "3.8.8"
  }
 },
 "nbformat": 4,
 "nbformat_minor": 5
}
