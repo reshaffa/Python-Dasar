{
 "cells": [
  {
   "cell_type": "code",
   "execution_count": 1,
   "id": "ac194994",
   "metadata": {},
   "outputs": [
    {
     "name": "stdout",
     "output_type": "stream",
     "text": [
      "Hai, nama saya SAFRIL SIDIK, saat ini usiaku 27.8 dan IPK terakhirku adalah 36.68\n"
     ]
    }
   ],
   "source": [
    "# Using format function if you merge an multiple data type on paragraf.\n",
    "nama = \"Safril Sidik\"\n",
    "usia = 27.8\n",
    "ip = 36.68\n",
    "output = \"Hai, nama saya \"+nama.upper()+\", saat ini usiaku {} dan IPK terakhirku adalah {}\"\n",
    "print(output.format(usia,ip))"
   ]
  },
  {
   "cell_type": "code",
   "execution_count": 4,
   "id": "f88328a0",
   "metadata": {},
   "outputs": [
    {
     "name": "stdout",
     "output_type": "stream",
     "text": [
      "My name is Recha Abriana Anggraini and my age is 24.3 then my value is 98.8\n"
     ]
    }
   ],
   "source": [
    "# Using format function with number of index\n",
    "value = 98.8\n",
    "name = \"Recha Abriana Anggraini\"\n",
    "age = 24.3\n",
    "outputs =\"My name is {1} and my age is {2} then my value is {0}\"\n",
    "print(outputs.format(value,name,age))"
   ]
  },
  {
   "cell_type": "code",
   "execution_count": null,
   "id": "134a299c",
   "metadata": {},
   "outputs": [],
   "source": []
  }
 ],
 "metadata": {
  "kernelspec": {
   "display_name": "Python 3",
   "language": "python",
   "name": "python3"
  },
  "language_info": {
   "codemirror_mode": {
    "name": "ipython",
    "version": 3
   },
   "file_extension": ".py",
   "mimetype": "text/x-python",
   "name": "python",
   "nbconvert_exporter": "python",
   "pygments_lexer": "ipython3",
   "version": "3.8.8"
  }
 },
 "nbformat": 4,
 "nbformat_minor": 5
}
