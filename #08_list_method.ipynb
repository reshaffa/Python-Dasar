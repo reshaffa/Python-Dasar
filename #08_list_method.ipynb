{
 "cells": [
  {
   "cell_type": "code",
   "execution_count": 1,
   "id": "f86b9c88",
   "metadata": {},
   "outputs": [],
   "source": [
    "# Daftar method untuk manipulasi list\n",
    "# append() untuk menambahkan item di paling akhir\n",
    "# clear() menghapus semua item di list\n",
    "# copy() menduplikasi item\n",
    "# count() menghitung total item berdasrkan spesific value\n",
    "# extends() memasukkan list atau tupple ke list lainnya\n",
    "# index() show position index of value\n",
    "# insert() add value in specified position\n",
    "# pop() remove element by specified position\n",
    "# remove() remove elemen by spesified value\n",
    "# reverse() changing the order list to descending\n",
    "# sort() "
   ]
  },
  {
   "cell_type": "code",
   "execution_count": 4,
   "id": "3ebac5d2",
   "metadata": {},
   "outputs": [
    {
     "name": "stdout",
     "output_type": "stream",
     "text": [
      "Currencies before appending item : \n",
      "['IDR', 'USD', 'JPY']\n",
      "Currencies after appending item : \n",
      "['IDR', 'USD', 'JPY', 'GBP']\n"
     ]
    }
   ],
   "source": [
    "# append function\n",
    "_currencies = [\"IDR\",\"USD\",\"JPY\"]\n",
    "print(\"Currencies before appending item : \")\n",
    "print(_currencies)\n",
    "_currencies.append(\"GBP\")\n",
    "print(\"Currencies after appending item : \")\n",
    "print(_currencies)"
   ]
  },
  {
   "cell_type": "code",
   "execution_count": 5,
   "id": "714870c4",
   "metadata": {},
   "outputs": [
    {
     "name": "stdout",
     "output_type": "stream",
     "text": [
      "Before clear : \n",
      "[1, 2, 3, 4, 5]\n",
      "After clear : \n",
      "None\n"
     ]
    }
   ],
   "source": [
    "# clear function\n",
    "_var = [1,2,3,4,5]\n",
    "print(\"Before clear : \")\n",
    "print(_var)\n",
    "print(\"After clear : \")\n",
    "print(_var.clear())"
   ]
  },
  {
   "cell_type": "code",
   "execution_count": 6,
   "id": "e80b0ef6",
   "metadata": {},
   "outputs": [
    {
     "name": "stdout",
     "output_type": "stream",
     "text": [
      "['IDR', 'USD', 'JPY', 'GBP']\n"
     ]
    }
   ],
   "source": [
    "# copy of list\n",
    "_copy = _currencies.copy()\n",
    "print(_currencies)"
   ]
  },
  {
   "cell_type": "code",
   "execution_count": 7,
   "id": "b2fe0c1b",
   "metadata": {},
   "outputs": [
    {
     "name": "stdout",
     "output_type": "stream",
     "text": [
      "1\n"
     ]
    }
   ],
   "source": [
    "# Sample of count\n",
    "_count = _currencies.count(\"USD\")\n",
    "print(_count)"
   ]
  },
  {
   "cell_type": "code",
   "execution_count": 12,
   "id": "1834c3b6",
   "metadata": {},
   "outputs": [
    {
     "name": "stdout",
     "output_type": "stream",
     "text": [
      "['IDR', 'USD', 'JPY', 'GBP', 'IDR', 'USD', 'JPY', 'GBP', 'IDR', 'USD', 'JPY', 'GBP', 'IDR', 'USD', 'JPY', 'GBP']\n"
     ]
    }
   ],
   "source": [
    "# Sample extended list\n",
    "_currencies.extend(_copy)\n",
    "print(_currencies)"
   ]
  },
  {
   "cell_type": "code",
   "execution_count": 13,
   "id": "d85bc38e",
   "metadata": {},
   "outputs": [
    {
     "name": "stdout",
     "output_type": "stream",
     "text": [
      "2\n"
     ]
    }
   ],
   "source": [
    "# Sample of index\n",
    "print(_currencies.index(\"JPY\"))"
   ]
  },
  {
   "cell_type": "code",
   "execution_count": 19,
   "id": "becda9f2",
   "metadata": {},
   "outputs": [
    {
     "name": "stdout",
     "output_type": "stream",
     "text": [
      "['IDR', 'TEST', 'USD', 'JPY', 'GBP', 'TEST', 'IDR', 'USD', 'JPY', 'GBP', 'IDR', 'USD', 'JPY', 'GBP', 'IDR', 'USD', 'JPY', 'GBP']\n"
     ]
    }
   ],
   "source": [
    "# Sample of insert(index_number, value)\n",
    "_currencies.insert(5,\"TEST\")\n",
    "print(_currencies)"
   ]
  },
  {
   "cell_type": "code",
   "execution_count": 25,
   "id": "37baea4e",
   "metadata": {},
   "outputs": [
    {
     "name": "stdout",
     "output_type": "stream",
     "text": [
      "['IDR', 'JPY', 'GBP', 'TEST', 'IDR', 'JPY', 'GBP', 'IDR', 'USD', 'JPY', 'GBP', 'IDR', 'USD', 'JPY', 'GBP']\n"
     ]
    }
   ],
   "source": [
    "# Sample of pop(index)\n",
    "_currencies.pop(1) # remove index 1\n",
    "_currencies.pop(5)\n",
    "print(_currencies)"
   ]
  },
  {
   "cell_type": "code",
   "execution_count": 26,
   "id": "c2aa4786",
   "metadata": {},
   "outputs": [
    {
     "name": "stdout",
     "output_type": "stream",
     "text": [
      "['IDR', 'JPY', 'TEST', 'IDR', 'JPY', 'GBP', 'IDR', 'USD', 'JPY', 'GBP', 'IDR', 'USD', 'JPY', 'GBP']\n"
     ]
    }
   ],
   "source": [
    "# Sample of remove(value)\n",
    "_currencies.remove(\"GBP\")\n",
    "print(_currencies)"
   ]
  },
  {
   "cell_type": "code",
   "execution_count": 30,
   "id": "5f04f106",
   "metadata": {},
   "outputs": [
    {
     "name": "stdout",
     "output_type": "stream",
     "text": [
      "['GBP', 'JPY', 'USD', 'IDR', 'GBP', 'JPY', 'USD', 'IDR', 'GBP', 'JPY', 'IDR', 'TEST', 'JPY', 'IDR']\n"
     ]
    }
   ],
   "source": [
    "# Reverse of list (desc is default)\n",
    "_currencies.reverse()\n",
    "print(_currencies)"
   ]
  },
  {
   "cell_type": "code",
   "execution_count": 31,
   "id": "cea25b8c",
   "metadata": {},
   "outputs": [
    {
     "name": "stdout",
     "output_type": "stream",
     "text": [
      "['GBP', 'GBP', 'GBP', 'IDR', 'IDR', 'IDR', 'IDR', 'JPY', 'JPY', 'JPY', 'JPY', 'TEST', 'USD', 'USD']\n"
     ]
    }
   ],
   "source": [
    "# Sample of sort() default is asc\n",
    "_currencies.sort()\n",
    "print(_currencies)"
   ]
  },
  {
   "cell_type": "code",
   "execution_count": 36,
   "id": "15eab698",
   "metadata": {},
   "outputs": [
    {
     "name": "stdout",
     "output_type": "stream",
     "text": [
      "gbp\n",
      "gbp\n",
      "gbp\n",
      "idr\n",
      "idr\n",
      "idr\n",
      "idr\n",
      "jpy\n",
      "jpy\n",
      "jpy\n",
      "jpy\n",
      "test\n",
      "usd\n",
      "usd\n"
     ]
    }
   ],
   "source": [
    "# Looping in list\n",
    "for x in _currencies : \n",
    "    print(x.lower())"
   ]
  },
  {
   "cell_type": "code",
   "execution_count": 40,
   "id": "38ad39e0",
   "metadata": {},
   "outputs": [
    {
     "name": "stdout",
     "output_type": "stream",
     "text": [
      "['GBP', 'GBP', 'GBP']\n"
     ]
    }
   ],
   "source": [
    "newlist = [x for x in _currencies if \"GBP\" in x]\n",
    "print(newlist)"
   ]
  },
  {
   "cell_type": "code",
   "execution_count": null,
   "id": "bd0b770c",
   "metadata": {},
   "outputs": [],
   "source": []
  }
 ],
 "metadata": {
  "kernelspec": {
   "display_name": "Python 3",
   "language": "python",
   "name": "python3"
  },
  "language_info": {
   "codemirror_mode": {
    "name": "ipython",
    "version": 3
   },
   "file_extension": ".py",
   "mimetype": "text/x-python",
   "name": "python",
   "nbconvert_exporter": "python",
   "pygments_lexer": "ipython3",
   "version": "3.8.8"
  }
 },
 "nbformat": 4,
 "nbformat_minor": 5
}
