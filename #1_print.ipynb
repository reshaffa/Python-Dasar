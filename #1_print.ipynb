{
 "cells": [
  {
   "cell_type": "code",
   "execution_count": 1,
   "id": "9bee56d3",
   "metadata": {},
   "outputs": [
    {
     "name": "stdout",
     "output_type": "stream",
     "text": [
      "Saya Sedang Belajar Pyhton\n"
     ]
    }
   ],
   "source": [
    "print(\"Saya Sedang Belajar Pyhton\")"
   ]
  },
  {
   "cell_type": "code",
   "execution_count": 2,
   "id": "a747d39d",
   "metadata": {},
   "outputs": [
    {
     "name": "stdout",
     "output_type": "stream",
     "text": [
      "Ini adalah sample belajar python dasar\n"
     ]
    }
   ],
   "source": [
    "print(\"Ini adalah sample belajar python dasar\")"
   ]
  },
  {
   "cell_type": "code",
   "execution_count": null,
   "id": "164cb72c",
   "metadata": {},
   "outputs": [],
   "source": []
  }
 ],
 "metadata": {
  "kernelspec": {
   "display_name": "Python 3",
   "language": "python",
   "name": "python3"
  },
  "language_info": {
   "codemirror_mode": {
    "name": "ipython",
    "version": 3
   },
   "file_extension": ".py",
   "mimetype": "text/x-python",
   "name": "python",
   "nbconvert_exporter": "python",
   "pygments_lexer": "ipython3",
   "version": "3.8.8"
  }
 },
 "nbformat": 4,
 "nbformat_minor": 5
}
