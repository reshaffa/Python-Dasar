{
 "cells": [
  {
   "cell_type": "code",
   "execution_count": 7,
   "id": "abbbb1eb",
   "metadata": {},
   "outputs": [],
   "source": [
    "#Type of string\n",
    "nama = \"Safril Sidik\""
   ]
  },
  {
   "cell_type": "code",
   "execution_count": 8,
   "id": "7072062f",
   "metadata": {},
   "outputs": [],
   "source": [
    "#Type of number (int, float)\n",
    "usia = 25\n",
    "ipk = 3.88"
   ]
  },
  {
   "cell_type": "code",
   "execution_count": 9,
   "id": "730605e2",
   "metadata": {},
   "outputs": [
    {
     "data": {
      "text/plain": [
       "str"
      ]
     },
     "execution_count": 9,
     "metadata": {},
     "output_type": "execute_result"
    }
   ],
   "source": [
    "#Check type of variable using type(variabel_name)\n",
    "type(nama)"
   ]
  },
  {
   "cell_type": "code",
   "execution_count": 10,
   "id": "5446c37f",
   "metadata": {},
   "outputs": [
    {
     "data": {
      "text/plain": [
       "int"
      ]
     },
     "execution_count": 10,
     "metadata": {},
     "output_type": "execute_result"
    }
   ],
   "source": [
    "type(usia)"
   ]
  },
  {
   "cell_type": "code",
   "execution_count": 11,
   "id": "d09768c7",
   "metadata": {},
   "outputs": [
    {
     "data": {
      "text/plain": [
       "float"
      ]
     },
     "execution_count": 11,
     "metadata": {},
     "output_type": "execute_result"
    }
   ],
   "source": [
    "type(ipk)"
   ]
  },
  {
   "cell_type": "code",
   "execution_count": 13,
   "id": "0a416568",
   "metadata": {},
   "outputs": [
    {
     "name": "stdout",
     "output_type": "stream",
     "text": [
      "Nama Saya Safril Sidik\n"
     ]
    }
   ],
   "source": [
    "#String Concatination using (+)\n",
    "print(\"Nama Saya \"+nama)"
   ]
  },
  {
   "cell_type": "code",
   "execution_count": 14,
   "id": "53f47ac7",
   "metadata": {},
   "outputs": [
    {
     "name": "stdout",
     "output_type": "stream",
     "text": [
      "Hai, saya \"Safril Sidik\"\n"
     ]
    }
   ],
   "source": [
    "#Escaping String using (\\)\n",
    "print(\"Hai, saya \\\"\"+nama+\"\\\"\")"
   ]
  },
  {
   "cell_type": "code",
   "execution_count": null,
   "id": "0a5f24d8",
   "metadata": {},
   "outputs": [],
   "source": []
  }
 ],
 "metadata": {
  "kernelspec": {
   "display_name": "Python 3",
   "language": "python",
   "name": "python3"
  },
  "language_info": {
   "codemirror_mode": {
    "name": "ipython",
    "version": 3
   },
   "file_extension": ".py",
   "mimetype": "text/x-python",
   "name": "python",
   "nbconvert_exporter": "python",
   "pygments_lexer": "ipython3",
   "version": "3.8.8"
  }
 },
 "nbformat": 4,
 "nbformat_minor": 5
}
